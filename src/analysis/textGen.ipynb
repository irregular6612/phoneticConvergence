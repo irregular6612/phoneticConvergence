{
 "cells": [
  {
   "cell_type": "code",
   "execution_count": 2,
   "metadata": {},
   "outputs": [],
   "source": [
    "import os \n",
    "import pandas as pd \n",
    "from pathlib import Path\n"
   ]
  },
  {
   "cell_type": "code",
   "execution_count": 3,
   "metadata": {},
   "outputs": [
    {
     "data": {
      "text/plain": [
       "PosixPath('/Users/bagjuhyeon/Documents/WorkSpace/phoneticConvergence/audio-sample/short-version-phonetic/output-KFA')"
      ]
     },
     "execution_count": 3,
     "metadata": {},
     "output_type": "execute_result"
    }
   ],
   "source": [
    "Path.cwd()"
   ]
  },
  {
   "cell_type": "code",
   "execution_count": 7,
   "metadata": {},
   "outputs": [],
   "source": [
    "wav_file_list = os.listdir()\n",
    "wav_file_list = [file for file in wav_file_list if file.endswith('.wav')]\n",
    "\n",
    "for wav_file in wav_file_list:\n",
    "    with open(wav_file.replace('.wav', '.txt'), 'w') as file:\n",
    "        file.write(wav_file.replace('.wav', ''))\n"
   ]
  },
  {
   "cell_type": "code",
   "execution_count": 19,
   "metadata": {},
   "outputs": [
    {
     "name": "stdout",
     "output_type": "stream",
     "text": [
      "복구됨: 상록.wav, 상록.txt -> 분개.wav, 분개.txt\n",
      "원래 이름 정보 파일을 찾을 수 없습니다.\n"
     ]
    }
   ],
   "source": [
    "import os\n",
    "import json\n",
    "from pathlib import Path\n",
    "import random\n",
    "import string\n",
    "\n",
    "def generate_temp_name():\n",
    "    \"\"\"임시 파일명을 생성합니다 (영문자와 숫자만 사용)\"\"\"\n",
    "    letters = string.ascii_lowercase + string.digits\n",
    "    return ''.join(random.choices(letters, k=8))\n",
    "\n",
    "def save_original_names():\n",
    "    \"\"\"현재 디렉토리의 wav와 txt 파일들의 원래 이름을 저장합니다.\"\"\"\n",
    "    wav_files = [f for f in os.listdir() if f.endswith('.wav')]\n",
    "    txt_files = [f for f in os.listdir() if f.endswith('.txt')]\n",
    "    \n",
    "    # wav와 txt 파일 쌍을 저장\n",
    "    original_names = {}\n",
    "    for wav_file in wav_files:\n",
    "        base_name = wav_file.replace('.wav', '')\n",
    "        txt_file = base_name + '.txt'\n",
    "        if txt_file in txt_files:\n",
    "            original_names[base_name] = {\n",
    "                'wav': wav_file,\n",
    "                'txt': txt_file\n",
    "            }\n",
    "    \n",
    "    with open('original_names.json', 'w', encoding='utf-8') as f:\n",
    "        json.dump(original_names, f, ensure_ascii=False, indent=2)\n",
    "    \n",
    "    return original_names\n",
    "\n",
    "def rename_files():\n",
    "    \"\"\"wav와 txt 파일들의 이름을 임시로 변경합니다.\"\"\"\n",
    "    # 원래 이름 저장\n",
    "    original_names = save_original_names()\n",
    "    \n",
    "    # 파일 이름 변경\n",
    "    for base_name, files in original_names.items():\n",
    "        temp_name = generate_temp_name()\n",
    "        # wav 파일 변경\n",
    "        os.rename(files['wav'], f\"{temp_name}.wav\")\n",
    "        # txt 파일 변경\n",
    "        os.rename(files['txt'], f\"{temp_name}.txt\")\n",
    "        print(f\"변경됨: {base_name} -> {temp_name}\")\n",
    "\n",
    "def restore_original_names():\n",
    "    \"\"\"파일들을 원래 이름으로 복구합니다.\"\"\"\n",
    "    try:\n",
    "        with open('original_names.json', 'r', encoding='utf-8') as f:\n",
    "            original_names = json.load(f)\n",
    "        \n",
    "        # 현재 디렉토리의 파일들 확인\n",
    "        current_files = os.listdir()\n",
    "        \n",
    "        # 임시 이름으로 변경된 파일들을 원래 이름으로 복구\n",
    "        for base_name, files in original_names.items():\n",
    "            # 임시 파일명 찾기\n",
    "            temp_wav = None\n",
    "            temp_txt = None\n",
    "            for file in current_files:\n",
    "                if file.endswith('.wav'):\n",
    "                    temp_wav = file\n",
    "                elif file.endswith('.txt'):\n",
    "                    temp_txt = file\n",
    "                if temp_wav and temp_txt:\n",
    "                    break\n",
    "            \n",
    "            if temp_wav and temp_txt:\n",
    "                # wav 파일 복구\n",
    "                os.rename(temp_wav, files['wav'])\n",
    "                # txt 파일 복구\n",
    "                os.rename(temp_txt, files['txt'])\n",
    "                print(f\"복구됨: {temp_wav}, {temp_txt} -> {files['wav']}, {files['txt']}\")\n",
    "        \n",
    "        # 원래 이름 정보 파일 삭제\n",
    "        os.remove('original_names.json')\n",
    "        print(\"모든 파일이 원래 이름으로 복구되었습니다.\")\n",
    "        \n",
    "    except FileNotFoundError:\n",
    "        print(\"원래 이름 정보 파일을 찾을 수 없습니다.\")\n",
    "\n",
    "if __name__ == \"__main__\":\n",
    "    # 파일 이름 변경\n",
    "    #rename_files()\n",
    "    \n",
    "    # 나중에 원래 이름으로 복구하려면 아래 주석을 해제하세요\n",
    "    restore_original_names()"
   ]
  },
  {
   "cell_type": "code",
   "execution_count": null,
   "metadata": {},
   "outputs": [],
   "source": []
  }
 ],
 "metadata": {
  "kernelspec": {
   "display_name": "mldl",
   "language": "python",
   "name": "python3"
  },
  "language_info": {
   "codemirror_mode": {
    "name": "ipython",
    "version": 3
   },
   "file_extension": ".py",
   "mimetype": "text/x-python",
   "name": "python",
   "nbconvert_exporter": "python",
   "pygments_lexer": "ipython3",
   "version": "3.12.0"
  }
 },
 "nbformat": 4,
 "nbformat_minor": 2
}
